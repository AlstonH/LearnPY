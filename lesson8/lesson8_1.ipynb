{
 "cells": [
  {
   "cell_type": "code",
   "execution_count": 6,
   "metadata": {},
   "outputs": [],
   "source": [
    "class Person():\n",
    "    def __init__(self,n:str):       #定義的時候叫參數n\n",
    "        self.name = n\n",
    "    \n",
    "    def __repr__(self):\n",
    "        return f\"這是Person的實體,我的姓名是{self.name}\"         #字串插補"
   ]
  },
  {
   "cell_type": "code",
   "execution_count": 7,
   "metadata": {},
   "outputs": [
    {
     "name": "stdout",
     "output_type": "stream",
     "text": [
      "Alston\n",
      "這是Person的實體,我的姓名是Alston\n"
     ]
    }
   ],
   "source": [
    "p1 = Person(\"Alston\")               #呼叫的時候叫引數值argument\n",
    "print(p1.name)\n",
    "print(p1)"
   ]
  },
  {
   "cell_type": "code",
   "execution_count": 8,
   "metadata": {},
   "outputs": [
    {
     "name": "stdout",
     "output_type": "stream",
     "text": [
      "黃俊銘\n",
      "這是Person的實體,我的姓名是黃俊銘\n"
     ]
    }
   ],
   "source": [
    "p2 = Person(\"黃俊銘\")\n",
    "print(p2.name)\n",
    "print(p2)"
   ]
  },
  {
   "cell_type": "code",
   "execution_count": 9,
   "metadata": {},
   "outputs": [
    {
     "data": {
      "text/plain": [
       "'我的姓名是Alston'"
      ]
     },
     "execution_count": 9,
     "metadata": {},
     "output_type": "execute_result"
    }
   ],
   "source": [
    "name = \"Alston\"\n",
    "\"我的姓名是name\"\n",
    "f\"我的姓名是{name}\"    #字串插補"
   ]
  },
  {
   "cell_type": "code",
   "execution_count": 16,
   "metadata": {},
   "outputs": [
    {
     "name": "stdout",
     "output_type": "stream",
     "text": [
      "<class '__main__.Student'>\n",
      "Alston\n",
      "96\n",
      "這是Student的實體,我的姓名是Alston, 我的分數是96\n"
     ]
    }
   ],
   "source": [
    "class Person():\n",
    "    def __init__(self,n:str):     \n",
    "        self.name = n\n",
    "    \n",
    "    def __repr__(self):\n",
    "        return f\"這是Person的實體,我的姓名是{self.name}\"  \n",
    "    \n",
    "class Student(Person):\n",
    "    def __init__(self,name:str,scores:int):    #此scores叫參數\n",
    "        super().__init__(name)\n",
    "        self.scores = scores          #此self.scores的scores叫attribute\n",
    "        \n",
    "    def __repr__(self):\n",
    "        return f\"這是Student的實體,我的姓名是{self.name}, 我的分數是{self.scores}\"  \n",
    "        \n",
    "s1 = Student(\"Alston\",96)\n",
    "print(type(s1))\n",
    "print(s1.name)                        #有兩個attribute(一個是name一個是scores)\n",
    "print(s1.scores)\n",
    "print(s1)"
   ]
  },
  {
   "cell_type": "code",
   "execution_count": 31,
   "metadata": {},
   "outputs": [
    {
     "name": "stdout",
     "output_type": "stream",
     "text": [
      "<class '__main__.Student'>\n",
      "總分:277\n",
      "平均:92.33\n",
      "這是Student的實體\n",
      "我的姓名是Alston\n",
      "國文96\n",
      "英文89\n",
      "數學92\n",
      "\n"
     ]
    }
   ],
   "source": [
    "class Person():\n",
    "    def __init__(self,n:str):     \n",
    "        self.name = n\n",
    "    \n",
    "    def __repr__(self):\n",
    "        return f\"這是Person的實體,我的姓名是{self.name}\"  \n",
    "    \n",
    "class Student(Person):\n",
    "    def __init__(self,name:str,chinese:int,english:int,math:int):    \n",
    "        super().__init__(name)\n",
    "        self.__chinese = chinese       #加兩條＿＿是不給存取的(只有Class內部才能存取), 外部都無法更改__的值\n",
    "        self.__english = english\n",
    "        self.__math = math    \n",
    "    \n",
    "    @property                        #主要是做read only的值\n",
    "    def chinese(self):               #定義def一定要加self\n",
    "        return self.__chinese\n",
    "    @property\n",
    "    def english(self):\n",
    "        return self.__english\n",
    "    @property\n",
    "    def math(self):\n",
    "        return self.__math      \n",
    "        \n",
    "    def __repr__(self):\n",
    "        message = \"\"            #建立字串, 字串是可以相加的\n",
    "        message += \"這是Student的實體\\n\"\n",
    "        message += f\"我的姓名是{self.name}\\n\"\n",
    "        message += f\"國文{self.chinese}\\n\"\n",
    "        message += f\"英文{self.english}\\n\"\n",
    "        message += f\"數學{self.math}\\n\"\n",
    "        return message\n",
    "    \n",
    "    def sum(self) -> int:    #實體的method, 一定要用實體呼叫\n",
    "        return self.chinese + self.english + self.math\n",
    "        \n",
    "    def average(self) -> float:\n",
    "        return self.sum() / 3\n",
    "    \n",
    "s1 = Student(\"Alston\",96,89,92)\n",
    "print(type(s1))\n",
    "print(f\"總分:{s1.sum()}\")  \n",
    "print(f\"平均:{round(s1.average(),ndigits=2)}\")                      \n",
    "print(s1)"
   ]
  }
 ],
 "metadata": {
  "kernelspec": {
   "display_name": "Python 3",
   "language": "python",
   "name": "python3"
  },
  "language_info": {
   "codemirror_mode": {
    "name": "ipython",
    "version": 3
   },
   "file_extension": ".py",
   "mimetype": "text/x-python",
   "name": "python",
   "nbconvert_exporter": "python",
   "pygments_lexer": "ipython3",
   "version": "3.10.13"
  }
 },
 "nbformat": 4,
 "nbformat_minor": 2
}
