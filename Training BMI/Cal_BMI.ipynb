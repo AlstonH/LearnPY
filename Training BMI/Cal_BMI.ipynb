{
 "cells": [
  {
   "cell_type": "code",
   "execution_count": 8,
   "metadata": {},
   "outputs": [
    {
     "name": "stdout",
     "output_type": "stream",
     "text": [
      "您的大名: Alston\n",
      "您的身高: 175.0\n",
      "您的體重: 68.0\n",
      "身體質量指數(BMI)(kg/㎡)= 22.2\n",
      "您的BMI為健康體位, 很不錯喔，很標準，請您繼續保持！\n",
      "測驗結束, 請維持每週333運動：）\n"
     ]
    }
   ],
   "source": [
    "try:\n",
    "    name = str(input(\"請輸入姓名:\"))\n",
    "    print(\"您的大名:\", name)\n",
    "    hight = float(input(\"請輸入身高(cm):\"))\n",
    "    print(\"您的身高:\", hight)\n",
    "    weight = float(input(\"請輸入體重(kg):\"))\n",
    "    print(\"您的體重:\", weight)\n",
    "    BMI = round(weight / (hight/100) ** 2, ndigits=2)\n",
    "    print(\"身體質量指數(BMI)(kg/㎡)=\", BMI)\n",
    "except:\n",
    "    print(\"程式錯誤\")\n",
    "else:\n",
    "    if BMI < 18.5:\n",
    "        print(\"您的BMI為體重過輕, 你需要再吃營養些，讓自己重一些！\")\n",
    "    elif BMI >= 18.5 and BMI < 24:\n",
    "        print(\"您的BMI為健康體位, 很不錯喔，很標準，請您繼續保持！\")\n",
    "    elif BMI >= 24 and BMI < 27:\n",
    "        print(\"您的BMI為過重, 您得控制一下飲食了，請加油！\")\n",
    "    elif BMI >= 27 and BMI < 30:\n",
    "        print(\"您的BMI為輕度肥胖, 肥胖容易引起疾病，您得要多多注意自己的健康囉！\")\n",
    "    elif BMI >= 30 and BMI < 35:\n",
    "        print(\"您的BMI為中度肥胖, 肥胖容易引起疾病，您得要多多注意自己的健康囉！\")\n",
    "    else:\n",
    "        print(\"您的BMI為重度肥胖, 肥胖容易引起疾病，您得要多多注意自己的健康囉！\")\n",
    "\n",
    "print(\"測驗結束, 請維持每週333運動：）\")"
   ]
  }
 ],
 "metadata": {
  "kernelspec": {
   "display_name": "Python 3",
   "language": "python",
   "name": "python3"
  },
  "language_info": {
   "codemirror_mode": {
    "name": "ipython",
    "version": 3
   },
   "file_extension": ".py",
   "mimetype": "text/x-python",
   "name": "python",
   "nbconvert_exporter": "python",
   "pygments_lexer": "ipython3",
   "version": "3.10.13"
  }
 },
 "nbformat": 4,
 "nbformat_minor": 2
}
