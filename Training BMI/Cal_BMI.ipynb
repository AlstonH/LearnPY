{
 "cells": [
  {
   "cell_type": "code",
   "execution_count": null,
   "metadata": {},
   "outputs": [],
   "source": [
    "int(input(\"請輸入姓名:\"))\n",
    "int(input(\"請輸入身高:\"))\n",
    "int(input(\"請輸入體重:\"))\n",
    "\n",
    "print(\"name\",您好:)\n",
    "print(\"您的BMI是:\")\n",
    "print(\"您的體重:\")"
   ]
  }
 ],
 "metadata": {
  "language_info": {
   "name": "python"
  }
 },
 "nbformat": 4,
 "nbformat_minor": 2
}
