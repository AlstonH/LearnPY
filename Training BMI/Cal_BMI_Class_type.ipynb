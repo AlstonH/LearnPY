{
 "cells": [
  {
   "cell_type": "code",
   "execution_count": 55,
   "metadata": {},
   "outputs": [
    {
     "name": "stdout",
     "output_type": "stream",
     "text": [
      "ALsont\n",
      "您的姓名是ALsont\n",
      "190.0\n",
      "80.0\n"
     ]
    }
   ],
   "source": []
  },
  {
   "cell_type": "code",
   "execution_count": 122,
   "metadata": {},
   "outputs": [
    {
     "name": "stdout",
     "output_type": "stream",
     "text": [
      "您的BMI為體重過輕, 你需要再吃營養些，讓自己重一些！\n",
      "您的大名是:Alston\n",
      "您的身高是:174.0\n",
      "您的體重是:55.0\n",
      "0.4\n"
     ]
    }
   ],
   "source": [
    "class Name():\n",
    "    def __init__(self,n:str):\n",
    "        self.name = n\n",
    "\n",
    "class BMI(Name):\n",
    "    def __init__(self, name: str, height: float, weight: float):\n",
    "        super().__init__(name)\n",
    "        self.height = height\n",
    "        self.weight = weight\n",
    "    \n",
    "    @property\n",
    "    def h1(self) -> float:\n",
    "        return (self.height/100) ** 2\n",
    "    \n",
    "    def w1(self) -> float:\n",
    "        return n1.weight\n",
    "    \n",
    "    def sum(self) -> float:\n",
    "        return round(w1 / h1, ndigits=2)\n",
    "\n",
    "    def __repr__(self):\n",
    "        return f\"您的大名是:{self.name}\\n您的身高是:{self.height}\\n您的體重是:{self.weight}\"\n",
    "    \n",
    "\n",
    "try:\n",
    "    n1 = BMI(str(input(\"請輸入姓名:\")), float(input(\"請輸入身高:\")), float(input(\"請輸入體重:\")))\n",
    "except:\n",
    "    print(\"88程式錯誤\")    \n",
    "\n",
    "else:    \n",
    "    if bmi < 18.5:\n",
    "        print(\"您的BMI為體重過輕, 你需要再吃營養些，讓自己重一些！\")\n",
    "    elif bmi >= 18.5 and bmi < 24:\n",
    "        print(\"您的BMI為健康體位, 很不錯喔，很標準，請您繼續保持！\")\n",
    "    elif bmi >= 24 and bmi < 27:\n",
    "        print(\"您的BMI為過重, 您得控制一下飲食了，請加油！\")\n",
    "    elif bmi >= 27 and bmi < 30:\n",
    "        print(\"您的BMI為輕度肥胖, 肥胖容易引起疾病，您得要多多注意自己的健康囉！\")\n",
    "    elif bmi >= 30 and bmi < 35:\n",
    "        print(\"您的BMI為中度肥胖, 肥胖容易引起疾病，您得要多多注意自己的健康囉！\")\n",
    "    else:\n",
    "        print(\"您的BMI為重度肥胖, 肥胖容易引起疾病，您得要多多注意自己的健康囉！\")\n",
    "        \n",
    "print(n1)\n",
    "print(n1.sum())\n",
    "#print(n1.w1())\n",
    "#print(n1.h1)"
   ]
  },
  {
   "cell_type": "code",
   "execution_count": 88,
   "metadata": {},
   "outputs": [
    {
     "name": "stdout",
     "output_type": "stream",
     "text": [
      "('Alston', 190.0, 77.0)\n"
     ]
    }
   ],
   "source": [
    "n1 = (str(input(\"請輸入姓名:\")), float(input(\"請輸入身高:\")), float(input(\"請輸入體重:\")))\n",
    "print(n1)"
   ]
  }
 ],
 "metadata": {
  "kernelspec": {
   "display_name": "Python 3",
   "language": "python",
   "name": "python3"
  },
  "language_info": {
   "codemirror_mode": {
    "name": "ipython",
    "version": 3
   },
   "file_extension": ".py",
   "mimetype": "text/x-python",
   "name": "python",
   "nbconvert_exporter": "python",
   "pygments_lexer": "ipython3",
   "version": "3.10.13"
  }
 },
 "nbformat": 4,
 "nbformat_minor": 2
}
