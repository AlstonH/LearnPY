{
 "cells": [
  {
   "cell_type": "code",
   "execution_count": 16,
   "metadata": {},
   "outputs": [
    {
     "name": "stdout",
     "output_type": "stream",
     "text": [
      "您的BMI為中度肥胖, 肥胖容易引起疾病，您得要多多注意自己的健康囉！\n",
      "您的大名是:Alston\n",
      "您的身高是:155.0\n",
      "您的體重是:80.0\n",
      "您計算出的BMI為:33.3\n"
     ]
    }
   ],
   "source": [
    "class Name():\n",
    "    def __init__(self,n:str):\n",
    "        self.name = n\n",
    "\n",
    "class BMI(Name):\n",
    "    def __init__(self, name: str, height: float, weight: float):\n",
    "        super().__init__(name)\n",
    "        self.height = height\n",
    "        self.weight = weight\n",
    "    \n",
    "    @property\n",
    "    def h1(self) -> float:\n",
    "        return (self.height/100) ** 2\n",
    "    \n",
    "    def w1(self) -> float:\n",
    "        return self.weight\n",
    "    \n",
    "    def sum(self) -> float:\n",
    "        return round(self.w1() / self.h1, ndigits=2)\n",
    "\n",
    "    def __repr__(self):\n",
    "        return f\"您的大名是:{self.name}\\n您的身高是:{self.height}\\n您的體重是:{self.weight}\"\n",
    "\n",
    "try:\n",
    "    n1 = BMI(str(input(\"請輸入姓名:\")), float(input(\"請輸入身高:\")), float(input(\"請輸入體重:\")))\n",
    "    bmi = n1.sum()   \n",
    "\n",
    "except ValueError as e:  \n",
    "    print(\"輸入格式錯誤，程式直接結束:\", e)\n",
    "    n1 = None                 #確保後續不會使用未正確初始化的 n1\n",
    "except Exception as e:\n",
    "    print(\"輸入格式錯誤，程式直接結束:\", e)\n",
    "    n1 = None\n",
    "else:    \n",
    "    if bmi < 18.5:\n",
    "        print(\"您的BMI為體重過輕, 你需要再吃營養些，讓自己重一些！\")\n",
    "    elif bmi >= 18.5 and bmi < 24:\n",
    "        print(\"您的BMI為健康體位, 很不錯喔，很標準，請您繼續保持！\")\n",
    "    elif bmi >= 24 and bmi < 27:\n",
    "        print(\"您的BMI為過重, 您得控制一下飲食了，請加油！\")\n",
    "    elif bmi >= 27 and bmi < 30:\n",
    "        print(\"您的BMI為輕度肥胖, 肥胖容易引起疾病，您得要多多注意自己的健康囉！\")\n",
    "    elif bmi >= 30 and bmi < 35:\n",
    "        print(\"您的BMI為中度肥胖, 肥胖容易引起疾病，您得要多多注意自己的健康囉！\")\n",
    "    else:\n",
    "        print(\"您的BMI為重度肥胖, 肥胖容易引起疾病，您得要多多注意自己的健康囉！\")\n",
    "\n",
    "print(n1)\n",
    "print(f\"您計算出的BMI為:{n1.sum()}\")"
   ]
  },
  {
   "cell_type": "code",
   "execution_count": 23,
   "metadata": {},
   "outputs": [
    {
     "name": "stdout",
     "output_type": "stream",
     "text": [
      "name\n"
     ]
    }
   ],
   "source": [
    "from dataclasses import dataclass\n",
    "\n",
    "@dataclass\n",
    "class BMI:\n",
    "    name:str(input(\"請輸入姓名:\"))\n",
    "    height:float(input(\"請輸入身高:\"))\n",
    "    weight:float(input(\"請輸入體重:\"))\n",
    "    \n",
    "    @property\n",
    "    def bmi(self) -> float:\n",
    "        return self.weight / (self.height / 100) ** 2\n",
    "\n",
    "p1 = BMI(\"name\", \"height\", \"weight\")\n",
    "print(p1.name)\n",
    "        \n",
    "    "
   ]
  },
  {
   "cell_type": "code",
   "execution_count": 4,
   "metadata": {},
   "outputs": [
    {
     "ename": "NameError",
     "evalue": "name 'name' is not defined",
     "output_type": "error",
     "traceback": [
      "\u001b[0;31m---------------------------------------------------------------------------\u001b[0m",
      "\u001b[0;31mNameError\u001b[0m                                 Traceback (most recent call last)",
      "Cell \u001b[0;32mIn[4], line 1\u001b[0m\n\u001b[0;32m----> 1\u001b[0m \u001b[38;5;28mtype\u001b[39m(\u001b[43mname\u001b[49m)\n",
      "\u001b[0;31mNameError\u001b[0m: name 'name' is not defined"
     ]
    }
   ],
   "source": []
  }
 ],
 "metadata": {
  "kernelspec": {
   "display_name": "Python 3",
   "language": "python",
   "name": "python3"
  },
  "language_info": {
   "codemirror_mode": {
    "name": "ipython",
    "version": 3
   },
   "file_extension": ".py",
   "mimetype": "text/x-python",
   "name": "python",
   "nbconvert_exporter": "python",
   "pygments_lexer": "ipython3",
   "version": "3.10.13"
  }
 },
 "nbformat": 4,
 "nbformat_minor": 2
}
