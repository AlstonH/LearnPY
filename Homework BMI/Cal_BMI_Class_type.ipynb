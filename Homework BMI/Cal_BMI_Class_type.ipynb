{
 "cells": [
  {
   "cell_type": "code",
   "execution_count": 16,
   "metadata": {},
   "outputs": [
    {
     "name": "stdout",
     "output_type": "stream",
     "text": [
      "您的BMI為中度肥胖, 肥胖容易引起疾病，您得要多多注意自己的健康囉！\n",
      "您的大名是:Alston\n",
      "您的身高是:155.0\n",
      "您的體重是:80.0\n",
      "您計算出的BMI為:33.3\n"
     ]
    }
   ],
   "source": [
    "class Name():\n",
    "    def __init__(self,n:str):\n",
    "        self.name = n\n",
    "\n",
    "class BMI(Name):\n",
    "    def __init__(self, name: str, height: float, weight: float):\n",
    "        super().__init__(name)\n",
    "        self.height = height\n",
    "        self.weight = weight\n",
    "\n",
    "    @property\n",
    "    def h1(self) -> float:\n",
    "        return (self.height/100) ** 2\n",
    "    h1\n",
    "    def w1(self) -> float:\n",
    "        return self.weight\n",
    "    \n",
    "    def sum(self) -> float:\n",
    "        return round(self.w1() / self.h1, ndigits=2)\n",
    "\n",
    "    def __repr__(self):\n",
    "        return f\"您的大名是:{self.name}\\n您的身高是:{self.height}\\n您的體重是:{self.weight}\"\n",
    "\n",
    "try:\n",
    "    n1 = BMI(str(input(\"請輸入姓名:\")), float(input(\"請輸入身高:\")), float(input(\"請輸入體重:\")))\n",
    "    bmi = n1.sum()   \n",
    "\n",
    "except ValueError as e:  \n",
    "    print(\"輸入格式錯誤，程式直接結束:\", e)\n",
    "    n1 = None                 #確保後續不會使用未正確初始化的 n1\n",
    "except Exception as e:\n",
    "    print(\"輸入格式錯誤，程式直接結束:\", e)\n",
    "    n1 = None\n",
    "else:    \n",
    "    if bmi < 18.5:\n",
    "        print(\"您的BMI為體重過輕, 你需要再吃營養些，讓自己重一些！\")\n",
    "    elif bmi >= 18.5 and bmi < 24:\n",
    "        print(\"您的BMI為健康體位, 很不錯喔，很標準，請您繼續保持！\")\n",
    "    elif bmi >= 24 and bmi < 27:\n",
    "        print(\"您的BMI為過重, 您得控制一下飲食了，請加油！\")\n",
    "    elif bmi >= 27 and bmi < 30:\n",
    "        print(\"您的BMI為輕度肥胖, 肥胖容易引起疾病，您得要多多注意自己的健康囉！\")\n",
    "    elif bmi >= 30 and bmi < 35:\n",
    "        print(\"您的BMI為中度肥胖, 肥胖容易引起疾病，您得要多多注意自己的健康囉！\")\n",
    "    else:\n",
    "        print(\"您的BMI為重度肥胖, 肥胖容易引起疾病，您得要多多注意自己的健康囉！\")\n",
    "\n",
    "print(n1)\n",
    "print(f\"您計算出的BMI為:{n1.sum()}\")"
   ]
  },
  {
   "cell_type": "code",
   "execution_count": 3,
   "metadata": {},
   "outputs": [
    {
     "name": "stdout",
     "output_type": "stream",
     "text": [
      "您的BMI為健康體位, 很不錯喔，很標準，請您繼續保持！\n",
      "您的姓名: Alston \n",
      "您的身高: 196.0cm\n",
      "您的體重: 85.0kg\n",
      "BMI: 22.13\n"
     ]
    }
   ],
   "source": [
    "from dataclasses import dataclass\n",
    "\n",
    "@dataclass\n",
    "class BMI:\n",
    "    name: str\n",
    "    height: float\n",
    "    weight: float\n",
    "    \n",
    "    @property\n",
    "    def bmi(self) -> float:\n",
    "        return round(self.weight / (self.height / 100) ** 2, ndigits=2)\n",
    "\n",
    "name = input(\"請輸入姓名:\")\n",
    "height = float(input(\"請輸入身高(cm):\"))\n",
    "weight = float(input(\"請輸入體重(kg):\"))\n",
    "\n",
    "p1 = BMI(name, height, weight)\n",
    "\n",
    "# 使用實體的 bmi 屬性來進行條件判斷\n",
    "if p1.bmi < 18.5:\n",
    "    print(\"您的BMI為體重過輕, 你需要再吃營養些，讓自己重一些！\")\n",
    "elif p1.bmi >= 18.5 and p1.bmi < 24:\n",
    "    print(\"您的BMI為健康體位, 很不錯喔，很標準，請您繼續保持！\")\n",
    "elif p1.bmi >= 24 and p1.bmi < 27:\n",
    "    print(\"您的BMI為過重, 您得控制一下飲食了，請加油！\")\n",
    "elif p1.bmi >= 27 and p1.bmi < 30:\n",
    "    print(\"您的BMI為輕度肥胖, 肥胖容易引起疾病，您得要多多注意自己的健康囉！\")\n",
    "elif p1.bmi >= 30 and p1.bmi < 35:\n",
    "    print(\"您的BMI為中度肥胖, 肥胖容易引起疾病，您得要多多注意自己的健康囉！\")\n",
    "else:\n",
    "    print(\"您的BMI為重度肥胖, 肥胖容易引起疾病，您得要多多注意自己的健康囉！\")\n",
    "\n",
    "print(f\"您的姓名: {p1.name} \") \n",
    "print(f\"您的身高: {p1.height}cm\")\n",
    "print(f\"您的體重: {p1.weight}kg\")\n",
    "print(f\"BMI: {p1.bmi}\")"
   ]
  },
  {
   "cell_type": "code",
   "execution_count": null,
   "metadata": {},
   "outputs": [
    {
     "name": "stdout",
     "output_type": "stream",
     "text": [
      "Alston您好！您的BMI為19.39, 屬於正常範圍\n",
      "應用程式結束\n"
     ]
    }
   ],
   "source": [
    "#其他同學的作業\n",
    "class Bmi():\n",
    "    def __init__(self,name:str,weight:float,height:float) -> None:\n",
    "        self.name = name\n",
    "        self.weight = weight\n",
    "        self.height = height / 100\n",
    "    \n",
    "    @property\n",
    "    def bmi(self)-> float:\n",
    "        return self.weight / self.height ** 2\n",
    "    \n",
    "    def status(self):\n",
    "        bmi = self.bmi\n",
    "        name = self.name\n",
    "\n",
    "        if bmi < 18.5:\n",
    "            print(f\"{name}您好！您的BMI為{bmi:.2f}, 體重過輕\")\n",
    "        elif bmi < 24:\n",
    "            print(f\"{name}您好！您的BMI為{bmi:.2f}, 屬於正常範圍\")\n",
    "        elif bmi < 27:\n",
    "            print(f\"{name}您好！您的BMI為{bmi:.2f},體重過重 \")\n",
    "        elif bmi < 30:\n",
    "            print(f\"{name}您好！您的BMI為{bmi:.2f},屬於輕度肥胖 \")\n",
    "        elif bmi < 35:\n",
    "            print(f\"{name}您好！您的BMI為{bmi:.2f},屬於中度肥胖 \")\n",
    "        else:\n",
    "            print(f\"{name}您好！您的BMI為{bmi:.2f},屬於重度肥胖 \")\n",
    "\n",
    "try:\n",
    "    name = input(\"請輸入姓名\")\n",
    "    height = float(input(\"請輸入身高(cm)\"))\n",
    "    weight = float(input(\"請輸入體重(kg)\"))\n",
    "\n",
    "    bmi_calculator = Bmi(name,weight,height)\n",
    "    bmi_calculator.status()\n",
    "\n",
    "except:\n",
    "    print(\"輸入格式錯誤\")\n",
    "\n",
    "print(\"應用程式結束\")"
   ]
  }
 ],
 "metadata": {
  "kernelspec": {
   "display_name": "Python 3",
   "language": "python",
   "name": "python3"
  },
  "language_info": {
   "codemirror_mode": {
    "name": "ipython",
    "version": 3
   },
   "file_extension": ".py",
   "mimetype": "text/x-python",
   "name": "python",
   "nbconvert_exporter": "python",
   "pygments_lexer": "ipython3",
   "version": "3.10.13"
  }
 },
 "nbformat": 4,
 "nbformat_minor": 2
}
