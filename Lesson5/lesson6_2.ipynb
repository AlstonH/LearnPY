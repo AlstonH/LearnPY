{
 "cells": [
  {
   "cell_type": "code",
   "execution_count": 3,
   "metadata": {},
   "outputs": [
    {
     "name": "stdout",
     "output_type": "stream",
     "text": [
      "小於60\n"
     ]
    }
   ],
   "source": [
    "scores = 45\n",
    "\n",
    "if scores < 60:\n",
    "    print(\"小於60\")\n",
    "else:\n",
    "    if scores < 80:\n",
    "        print(\"大於等於60\")\n",
    "        print(\"小於80\")\n",
    "    else:\n",
    "        print(\"大於80\")"
   ]
  },
  {
   "cell_type": "code",
   "execution_count": 11,
   "metadata": {},
   "outputs": [
    {
     "name": "stdout",
     "output_type": "stream",
     "text": [
      "大於80\n"
     ]
    }
   ],
   "source": [
    "scores = 80\n",
    "\n",
    "if scores < 60:     #如果有多重if, 只要執行完依順序為true, 則以下會直接忽略, 程式直接離開\n",
    "    print(\"小於60\")\n",
    "elif scores < 80:            #多項選擇語法\n",
    "        print(\"大於等於60\")\n",
    "        print(\"小於80\")\n",
    "else:\n",
    "        print(\"大於80\")"
   ]
  },
  {
   "cell_type": "code",
   "execution_count": 14,
   "metadata": {},
   "outputs": [
    {
     "name": "stdout",
     "output_type": "stream",
     "text": [
      "輸入分數超過300\n",
      "應用程式結束\n"
     ]
    }
   ],
   "source": [
    "# 根據lesson6_1.ipynb 另一個寫法\n",
    "try:\n",
    "    scores = int(input(\"請輸入學生分數(最高300)\"))\n",
    "    if scores <= 300:\n",
    "        is_add = input(\"學生是否符合加分條件?(y,n)\")\n",
    "        if is_add == 'y': \n",
    "            scores *= 1.05\n",
    "            if scores > 300:\n",
    "                scores = 300\n",
    "        print(\"目前學生的分數\", round(scores)) \n",
    "    else:\n",
    "        print(\"輸入分數超過300\")\n",
    "except:\n",
    "    print(\"格式錯誤\")\n",
    "print(\"應用程式結束\")"
   ]
  }
 ],
 "metadata": {
  "kernelspec": {
   "display_name": "Python 3",
   "language": "python",
   "name": "python3"
  },
  "language_info": {
   "codemirror_mode": {
    "name": "ipython",
    "version": 3
   },
   "file_extension": ".py",
   "mimetype": "text/x-python",
   "name": "python",
   "nbconvert_exporter": "python",
   "pygments_lexer": "ipython3",
   "version": "3.10.13"
  }
 },
 "nbformat": 4,
 "nbformat_minor": 2
}
