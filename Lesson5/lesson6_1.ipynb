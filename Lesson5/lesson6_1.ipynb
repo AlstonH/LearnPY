{
 "cells": [
  {
   "cell_type": "code",
   "execution_count": 1,
   "metadata": {},
   "outputs": [
    {
     "data": {
      "text/plain": [
       "False"
      ]
     },
     "execution_count": 1,
     "metadata": {},
     "output_type": "execute_result"
    }
   ],
   "source": [
    "5 > 5"
   ]
  },
  {
   "cell_type": "code",
   "execution_count": 2,
   "metadata": {},
   "outputs": [
    {
     "data": {
      "text/plain": [
       "True"
      ]
     },
     "execution_count": 2,
     "metadata": {},
     "output_type": "execute_result"
    }
   ],
   "source": [
    "5 == 5 "
   ]
  },
  {
   "cell_type": "code",
   "execution_count": 8,
   "metadata": {},
   "outputs": [
    {
     "name": "stdout",
     "output_type": "stream",
     "text": [
      "不可以投票\n",
      "不可以考駕照\n",
      "應用程式結束\n"
     ]
    }
   ],
   "source": [
    "age = 17\n",
    "if age >= 18:\n",
    "    print(\"可以投票\")\n",
    "    print(\"可以考駕照\")\n",
    "else:\n",
    "    print(\"不可以投票\")\n",
    "    print(\"不可以考駕照\")\n",
    "print(\"應用程式結束\")"
   ]
  },
  {
   "cell_type": "code",
   "execution_count": 37,
   "metadata": {},
   "outputs": [
    {
     "name": "stdout",
     "output_type": "stream",
     "text": [
      "輸入分數超過300\n",
      "應用程式結束\n"
     ]
    }
   ],
   "source": [
    "try:\n",
    "    scores = int(input(\"請輸入學生分數(最高300)\"))\n",
    "except:\n",
    "    print(\"格式錯誤\")\n",
    "else:\n",
    "    if scores <= 300:\n",
    "        is_add = input(\"學生是否符合加分條件?(y,n)\") #空白鍵也是特殊符號, \n",
    "\n",
    "        if is_add == 'y': \n",
    "            # scores = scores * 1.05  #假設scores是100, 去乘1.05等於105, 再將105寫入進去scores裡\n",
    "            scores *= 1.05 #等同於上一行, 將變數的值直接乘上1.05 (複合指定運算子)\n",
    "            if scores > 300:\n",
    "                scores = 300 #用指定運算子, 將右邊的值存入給左邊\n",
    "\n",
    "        print(\"目前學生的分數\", round(scores)) \n",
    "    else:\n",
    "        print(\"輸入分數超過300\")\n",
    "print(\"應用程式結束\")"
   ]
  },
  {
   "cell_type": "code",
   "execution_count": 23,
   "metadata": {},
   "outputs": [
    {
     "name": "stdout",
     "output_type": "stream",
     "text": [
      "分數60至79分\n"
     ]
    }
   ],
   "source": [
    "score = 75\n",
    "if score >= 60:\n",
    "    if score < 80:\n",
    "        print(\"分數60至79分\")"
   ]
  },
  {
   "cell_type": "code",
   "execution_count": 27,
   "metadata": {},
   "outputs": [
    {
     "name": "stdout",
     "output_type": "stream",
     "text": [
      "分數60至79分\n"
     ]
    }
   ],
   "source": [
    "score = 75\n",
    "if score >= 60 and score < 80:\n",
    "    print(\"分數60至79分\")"
   ]
  },
  {
   "cell_type": "code",
   "execution_count": 29,
   "metadata": {},
   "outputs": [
    {
     "name": "stdout",
     "output_type": "stream",
     "text": [
      "分數大於等於80\n"
     ]
    }
   ],
   "source": [
    "score = 89\n",
    "if score < 60:\n",
    "    print(\"分數小於60\")\n",
    "    \n",
    "if score >= 80:\n",
    "    print(\"分數大於等於80\")"
   ]
  },
  {
   "cell_type": "code",
   "execution_count": 30,
   "metadata": {},
   "outputs": [
    {
     "name": "stdout",
     "output_type": "stream",
     "text": [
      "分數小於60或者大於等於80\n"
     ]
    }
   ],
   "source": [
    "score = 89\n",
    "if score < 60 or score >= 80:\n",
    "    print(\"分數小於60或者大於等於80\")"
   ]
  },
  {
   "cell_type": "code",
   "execution_count": 36,
   "metadata": {},
   "outputs": [
    {
     "name": "stdout",
     "output_type": "stream",
     "text": [
      "目前學生的分數 210\n",
      "應用程式結束\n"
     ]
    }
   ],
   "source": [
    "try:\n",
    "    scores = int(input(\"請輸入學生分數(最高300)\"))\n",
    "except:\n",
    "    print(\"格式錯誤\")\n",
    "else:\n",
    "    if not (scores <= 300 and score >= 0):\n",
    "        print(\"輸入分數超過300或小於0\")\n",
    "    else:\n",
    "        is_add = input(\"學生是否符合加分條件?(y,n)\") #空白鍵也是特殊符號, \n",
    "\n",
    "        if is_add == 'y': \n",
    "            # scores = scores * 1.05  #假設scores是100, 去乘1.05等於105, 再將105寫入進去scores裡\n",
    "            scores *= 1.05 #等同於上一行, 將變數的值直接乘上1.05 (複合指定運算子)\n",
    "            if scores > 300:\n",
    "                scores = 300 #用指定運算子, 將右邊的值存入給左邊\n",
    "\n",
    "        print(\"目前學生的分數\", round(scores)) \n",
    "\n",
    "print(\"應用程式結束\")"
   ]
  }
 ],
 "metadata": {
  "kernelspec": {
   "display_name": "Python 3",
   "language": "python",
   "name": "python3"
  },
  "language_info": {
   "codemirror_mode": {
    "name": "ipython",
    "version": 3
   },
   "file_extension": ".py",
   "mimetype": "text/x-python",
   "name": "python",
   "nbconvert_exporter": "python",
   "pygments_lexer": "ipython3",
   "version": "3.10.13"
  }
 },
 "nbformat": 4,
 "nbformat_minor": 2
}
