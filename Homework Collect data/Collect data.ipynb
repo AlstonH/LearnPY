{
 "cells": [
  {
   "cell_type": "code",
   "execution_count": 3,
   "metadata": {},
   "outputs": [
    {
     "ename": "IndentationError",
     "evalue": "expected an indented block after 'with' statement on line 3 (3579262248.py, line 5)",
     "output_type": "error",
     "traceback": [
      "\u001b[0;36m  Cell \u001b[0;32mIn[3], line 5\u001b[0;36m\u001b[0m\n\u001b[0;31m    class Site(BaseModel):\u001b[0m\n\u001b[0m    ^\u001b[0m\n\u001b[0;31mIndentationError\u001b[0m\u001b[0;31m:\u001b[0m expected an indented block after 'with' statement on line 3\n"
     ]
    }
   ],
   "source": [
    "from pydantic import BaseModel,Field\n",
    "\n",
    "with open(\"Newtaipeifood.json\", encoding=\"utf-8\") as file:\n",
    "\n",
    "class Site(BaseModel):\n",
    "    name:str = Field(alias='Name_Ins')\n",
    "    numbers:int = Field(alias='No')\n",
    "    address:str = Field(alias='Address')\n",
    "    tax:int = Field(alias='tax_ID_number')\n",
    "    x:int = Field(alias='wgs84aX')\n",
    "    y:int = Field(alias='wgs84aY')\n",
    "    "
   ]
  }
 ],
 "metadata": {
  "kernelspec": {
   "display_name": "Python 3",
   "language": "python",
   "name": "python3"
  },
  "language_info": {
   "codemirror_mode": {
    "name": "ipython",
    "version": 3
   },
   "file_extension": ".py",
   "mimetype": "text/x-python",
   "name": "python",
   "nbconvert_exporter": "python",
   "pygments_lexer": "ipython3",
   "version": "3.10.13"
  }
 },
 "nbformat": 4,
 "nbformat_minor": 2
}
